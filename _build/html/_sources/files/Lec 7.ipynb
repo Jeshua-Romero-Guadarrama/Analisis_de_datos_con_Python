{
 "cells": [
  {
   "cell_type": "markdown",
   "metadata": {},
   "source": [
    "<center><img style=\"float: center; width:90%\" src=\"https://raw.githubusercontent.com/Jeshua-Romero-Guadarrama/CienciaDatosPython/main/images/JeshuaNomics.png\">\n",
    "</center><br>\n",
    "\n",
    "<script src=\"https://kit.fontawesome.com/37a97f957d.js\" crossorigin=\"anonymous\"></script>\n",
    "\n",
    "<center><a href=\"https://www.datascience.jeshuanomics.com/\" target=\"blank\" style=\"font-size:20px;\">\n",
    "Introducción a la Ciencia de Datos para Economistas en Python\n",
    "</a></center>\n",
    "\n",
    "<center><a href=\"https://www.jeshuanomics.com/\" target=\"blank\" style=\"font-size:20px;\">\n",
    "Publicado por Jeshua Romero Guadarrama en colaboración con JeshuaNomics\n",
    "</a></center>\n",
    "    \n",
    "<center><a href=\"https://www.jeshuanomics.com/\" target=\"blank\">\n",
    "____________________________________________________________________________________________________\n",
    "</a></center><br>\n",
    "\n",
    "<center>\n",
    "<a href=\"https://github.com/JeshuaNomics\"><i class=\"fa fa-github\" aria-hidden=\"true\"></i><span class=\"label\"></span> GitHub  </a>\n",
    "<a href=\"https://www.facebook.com/JeshuaNomics/\"><i class=\"fa fa-facebook\" aria-hidden=\"true\"></i><span class=\"label\"></span> Facebook  </a>\n",
    "<a href=\"https://twitter.com/JeshuaNomics\"><i class=\"fa fa-twitter\" aria-hidden=\"true\"></i><span class=\"label\"></span> Twitter  </a>\n",
    "<a href=\"https://www.linkedin.com/in/jeshua-romero-guadarrama/\"><i class=\"fa fa-linkedin\" aria-hidden=\"true\"></i><span class=\"label\"></span> Linkedin  </a>\n",
    "<a href=\"https://vk.com/jeshuanomics\"><i class=\"fa fa-vk\" aria-hidden=\"true\"></i><span class=\"label\"></span> Vkontakte  </a>\n",
    "<a href=\"https://jeshuanomics.tumblr.com/\"><i class=\"fa fa-tumblr\" aria-hidden=\"true\"></i><span class=\"label\"></span> Tumblr  </a>\n",
    "<a href=\"https://www.youtube.com/channel/UCY7f84mJGvMN7TF7XI4-Jgg?view_as=subscriber/\"><i class=\"fa fa-youtube-play\" aria-hidden=\"true\"></i><span class=\"label\"></span> YouTube  </a>\n",
    "<a href=\"https://www.instagram.com/JeshuaNomics/\"><i class=\"fa fa-instagram\" aria-hidden=\"true\"></i><span class=\"label\"></span> Instagram  </a>\n",
    "<a href=\"https://www.datascience.jeshuanomics.com/\"><i class=\"fa fa-check\" aria-hidden=\"true\"></i><span class=\"label\"></span> DataScience </a>\n",
    "</center><br><br>"
   ]
  },
  {
   "cell_type": "markdown",
   "metadata": {},
   "source": [
    "# Creating Arrays"
   ]
  },
  {
   "cell_type": "code",
   "execution_count": 2,
   "id": "9721bfc6",
   "metadata": {},
   "outputs": [],
   "source": [
    "# Creating Numpy arrays\n",
    "import numpy as np\n",
    "\n",
    "# Converting from a list\n",
    "#Lets start with a list\n",
    "\n",
    "my_list1 = [1,2,3,4]\n",
    "\n",
    "my_array1 = np.array(my_list1)\n",
    "\n"
   ]
  },
  {
   "cell_type": "code",
   "execution_count": 2,
   "id": "d0bd0e9d",
   "metadata": {},
   "outputs": [
    {
     "data": {
      "text/plain": [
       "array([1, 2, 3, 4])"
      ]
     },
     "execution_count": 2,
     "metadata": {},
     "output_type": "execute_result"
    }
   ],
   "source": [
    "#Print out array\n",
    "\n",
    "my_array"
   ]
  },
  {
   "cell_type": "code",
   "execution_count": 5,
   "id": "a1b35b23",
   "metadata": {},
   "outputs": [
    {
     "data": {
      "text/plain": [
       "array([[ 1,  2,  3,  4],\n",
       "       [11, 22, 33, 44]])"
      ]
     },
     "execution_count": 5,
     "metadata": {},
     "output_type": "execute_result"
    }
   ],
   "source": [
    "# Make another list\n",
    "my_list2 = [11,22,33,44]\n",
    "\n",
    "#Make a list of lists\n",
    "my_lists = [my_list1,my_list2]\n",
    "\n",
    "#Make multi-dimensional array\n",
    "my_array2 = np.array(my_lists)\n",
    "\n",
    "#Show array\n",
    "my_array2"
   ]
  },
  {
   "cell_type": "code",
   "execution_count": 6,
   "id": "1a258a3c",
   "metadata": {},
   "outputs": [
    {
     "data": {
      "text/plain": [
       "(2L, 4L)"
      ]
     },
     "execution_count": 6,
     "metadata": {},
     "output_type": "execute_result"
    }
   ],
   "source": [
    "#Lets get the size of the array\n",
    "my_array2.shape"
   ]
  },
  {
   "cell_type": "code",
   "execution_count": 7,
   "id": "8302d8c0",
   "metadata": {},
   "outputs": [
    {
     "data": {
      "text/plain": [
       "dtype('int32')"
      ]
     },
     "execution_count": 7,
     "metadata": {},
     "output_type": "execute_result"
    }
   ],
   "source": [
    "#Find out the data tyoe of the array\n",
    "my_array2.dtype"
   ]
  },
  {
   "cell_type": "code",
   "execution_count": 8,
   "id": "df466641",
   "metadata": {},
   "outputs": [
    {
     "data": {
      "text/plain": [
       "array([ 0.,  0.,  0.,  0.,  0.])"
      ]
     },
     "execution_count": 8,
     "metadata": {},
     "output_type": "execute_result"
    }
   ],
   "source": [
    "#Making special case arrays\n",
    "\n",
    "#Zeros\n",
    "np.zeros(5)"
   ]
  },
  {
   "cell_type": "code",
   "execution_count": 11,
   "id": "27a4d075",
   "metadata": {},
   "outputs": [
    {
     "data": {
      "text/plain": [
       "dtype('float64')"
      ]
     },
     "execution_count": 11,
     "metadata": {},
     "output_type": "execute_result"
    }
   ],
   "source": [
    "#Ones\n",
    "np.ones((5,5))"
   ]
  },
  {
   "cell_type": "code",
   "execution_count": 13,
   "id": "20cc55f6",
   "metadata": {},
   "outputs": [
    {
     "data": {
      "text/plain": [
       "array([[  1.15117295e-321,   0.00000000e+000,   0.00000000e+000,\n",
       "          0.00000000e+000],\n",
       "       [  0.00000000e+000,   0.00000000e+000,   0.00000000e+000,\n",
       "          0.00000000e+000],\n",
       "       [  0.00000000e+000,   0.00000000e+000,   0.00000000e+000,\n",
       "          0.00000000e+000]])"
      ]
     },
     "execution_count": 13,
     "metadata": {},
     "output_type": "execute_result"
    }
   ],
   "source": [
    "# An empty array\n",
    "\n",
    "np.empty(5)\n",
    "np.empty((3,4))"
   ]
  },
  {
   "cell_type": "code",
   "execution_count": 16,
   "id": "04c3ee0c",
   "metadata": {},
   "outputs": [
    {
     "data": {
      "text/plain": [
       "array([[ 1.,  0.,  0.,  0.,  0.],\n",
       "       [ 0.,  1.,  0.,  0.,  0.],\n",
       "       [ 0.,  0.,  1.,  0.,  0.],\n",
       "       [ 0.,  0.,  0.,  1.,  0.],\n",
       "       [ 0.,  0.,  0.,  0.,  1.]])"
      ]
     },
     "execution_count": 16,
     "metadata": {},
     "output_type": "execute_result"
    }
   ],
   "source": [
    "#Identity array\n",
    "np.eye(5)"
   ]
  },
  {
   "cell_type": "code",
   "execution_count": 4,
   "id": "13cb6a23",
   "metadata": {},
   "outputs": [
    {
     "data": {
      "text/plain": [
       "array([0, 1, 2, 3, 4])"
      ]
     },
     "execution_count": 4,
     "metadata": {},
     "output_type": "execute_result"
    }
   ],
   "source": [
    "# Using a range\n",
    "\n",
    "np.arange(5)"
   ]
  }
 ],
 "metadata": {
  "hide_input": false,
  "kernelspec": {
   "display_name": "Python 3",
   "language": "python",
   "name": "python3"
  },
  "language_info": {
   "codemirror_mode": {
    "name": "ipython",
    "version": 3
   },
   "file_extension": ".py",
   "mimetype": "text/x-python",
   "name": "python",
   "nbconvert_exporter": "python",
   "pygments_lexer": "ipython3",
   "version": "3.8.8"
  },
  "latex_envs": {
   "LaTeX_envs_menu_present": true,
   "autoclose": false,
   "autocomplete": true,
   "bibliofile": "biblio.bib",
   "cite_by": "apalike",
   "current_citInitial": 1,
   "eqLabelWithNumbers": true,
   "eqNumInitial": 1,
   "hotkeys": {
    "equation": "Ctrl-E",
    "itemize": "Ctrl-I"
   },
   "labels_anchors": false,
   "latex_user_defs": false,
   "report_style_numbering": false,
   "user_envs_cfg": false
  },
  "nbTranslate": {
   "displayLangs": [
    "*"
   ],
   "hotkey": "alt-t",
   "langInMainMenu": true,
   "sourceLang": "en",
   "targetLang": "fr",
   "useGoogleTranslate": true
  },
  "toc": {
   "base_numbering": 1,
   "nav_menu": {},
   "number_sections": true,
   "sideBar": true,
   "skip_h1_title": false,
   "title_cell": "Tabla de contenido",
   "title_sidebar": "Contenido",
   "toc_cell": false,
   "toc_position": {},
   "toc_section_display": true,
   "toc_window_display": false
  },
  "varInspector": {
   "cols": {
    "lenName": 16,
    "lenType": 16,
    "lenVar": 40
   },
   "kernels_config": {
    "python": {
     "delete_cmd_postfix": "",
     "delete_cmd_prefix": "del ",
     "library": "var_list.py",
     "varRefreshCmd": "print(var_dic_list())"
    },
    "r": {
     "delete_cmd_postfix": ") ",
     "delete_cmd_prefix": "rm(",
     "library": "var_list.r",
     "varRefreshCmd": "cat(var_dic_list()) "
    }
   },
   "types_to_exclude": [
    "module",
    "function",
    "builtin_function_or_method",
    "instance",
    "_Feature"
   ],
   "window_display": false
  }
 },
 "nbformat": 4,
 "nbformat_minor": 1
}
