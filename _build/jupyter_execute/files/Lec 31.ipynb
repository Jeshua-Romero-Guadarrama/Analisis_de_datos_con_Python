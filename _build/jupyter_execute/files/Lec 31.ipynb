{
 "cells": [
  {
   "cell_type": "markdown",
   "metadata": {},
   "source": [
    "<center><img style=\"float: center; width:90%\" src=\"https://raw.githubusercontent.com/Jeshua-Romero-Guadarrama/CienciaDatosPython/main/images/JeshuaNomics.png\">\n",
    "</center><br>\n",
    "\n",
    "<script src=\"https://kit.fontawesome.com/37a97f957d.js\" crossorigin=\"anonymous\"></script>\n",
    "\n",
    "<center><a href=\"https://www.datascience.jeshuanomics.com/\" target=\"blank\" style=\"font-size:20px;\">\n",
    "Introducción a la Ciencia de Datos para Economistas en Python\n",
    "</a></center>\n",
    "\n",
    "<center><a href=\"https://www.jeshuanomics.com/\" target=\"blank\" style=\"font-size:20px;\">\n",
    "Publicado por Jeshua Romero Guadarrama en colaboración con JeshuaNomics\n",
    "</a></center>\n",
    "    \n",
    "<center><a href=\"https://www.jeshuanomics.com/\" target=\"blank\">\n",
    "____________________________________________________________________________________________________\n",
    "</a></center><br>\n",
    "\n",
    "<center>\n",
    "<a href=\"https://github.com/JeshuaNomics\"><i class=\"fa fa-github\" aria-hidden=\"true\"></i><span class=\"label\"></span> GitHub  </a>\n",
    "<a href=\"https://www.facebook.com/JeshuaNomics/\"><i class=\"fa fa-facebook\" aria-hidden=\"true\"></i><span class=\"label\"></span> Facebook  </a>\n",
    "<a href=\"https://twitter.com/JeshuaNomics\"><i class=\"fa fa-twitter\" aria-hidden=\"true\"></i><span class=\"label\"></span> Twitter  </a>\n",
    "<a href=\"https://www.linkedin.com/in/jeshua-romero-guadarrama/\"><i class=\"fa fa-linkedin\" aria-hidden=\"true\"></i><span class=\"label\"></span> Linkedin  </a>\n",
    "<a href=\"https://vk.com/jeshuanomics\"><i class=\"fa fa-vk\" aria-hidden=\"true\"></i><span class=\"label\"></span> Vkontakte  </a>\n",
    "<a href=\"https://jeshuanomics.tumblr.com/\"><i class=\"fa fa-tumblr\" aria-hidden=\"true\"></i><span class=\"label\"></span> Tumblr  </a>\n",
    "<a href=\"https://www.youtube.com/channel/UCY7f84mJGvMN7TF7XI4-Jgg?view_as=subscriber/\"><i class=\"fa fa-youtube-play\" aria-hidden=\"true\"></i><span class=\"label\"></span> YouTube  </a>\n",
    "<a href=\"https://www.instagram.com/JeshuaNomics/\"><i class=\"fa fa-instagram\" aria-hidden=\"true\"></i><span class=\"label\"></span> Instagram  </a>\n",
    "<a href=\"https://www.datascience.jeshuanomics.com/\"><i class=\"fa fa-check\" aria-hidden=\"true\"></i><span class=\"label\"></span> DataScience </a>\n",
    "</center><br><br>"
   ]
  },
  {
   "cell_type": "markdown",
   "metadata": {},
   "source": [
    "# Concatenate"
   ]
  },
  {
   "cell_type": "code",
   "execution_count": 2,
   "id": "6623fe1c",
   "metadata": {},
   "outputs": [],
   "source": [
    "# Now we'll learn about concatenating along an axis\n",
    "import numpy as np\n",
    "import pandas as pd\n",
    "from pandas import Series, DataFrame"
   ]
  },
  {
   "cell_type": "code",
   "execution_count": 3,
   "id": "a4789d18",
   "metadata": {},
   "outputs": [],
   "source": [
    "# First in just Numpy"
   ]
  },
  {
   "cell_type": "code",
   "execution_count": 4,
   "id": "cb263c8f",
   "metadata": {},
   "outputs": [],
   "source": [
    "# Create a matrix \n",
    "arr1 = np.arange(9).reshape((3,3))"
   ]
  },
  {
   "cell_type": "code",
   "execution_count": 5,
   "id": "c49a3758",
   "metadata": {},
   "outputs": [
    {
     "data": {
      "text/plain": [
       "array([[0, 1, 2],\n",
       "       [3, 4, 5],\n",
       "       [6, 7, 8]])"
      ]
     },
     "execution_count": 5,
     "metadata": {},
     "output_type": "execute_result"
    }
   ],
   "source": [
    "# Show\n",
    "arr1"
   ]
  },
  {
   "cell_type": "code",
   "execution_count": 6,
   "id": "be1d8848",
   "metadata": {},
   "outputs": [
    {
     "data": {
      "text/plain": [
       "array([[0, 1, 2, 0, 1, 2],\n",
       "       [3, 4, 5, 3, 4, 5],\n",
       "       [6, 7, 8, 6, 7, 8]])"
      ]
     },
     "execution_count": 6,
     "metadata": {},
     "output_type": "execute_result"
    }
   ],
   "source": [
    "# Concatenate along axis 1\n",
    "np.concatenate([arr1,arr1],axis=1)"
   ]
  },
  {
   "cell_type": "code",
   "execution_count": 7,
   "id": "2b3a610d",
   "metadata": {},
   "outputs": [
    {
     "data": {
      "text/plain": [
       "array([[0, 1, 2],\n",
       "       [3, 4, 5],\n",
       "       [6, 7, 8],\n",
       "       [0, 1, 2],\n",
       "       [3, 4, 5],\n",
       "       [6, 7, 8]])"
      ]
     },
     "execution_count": 7,
     "metadata": {},
     "output_type": "execute_result"
    }
   ],
   "source": [
    "# Let's see other axis options\n",
    "np.concatenate([arr1,arr1],axis=0)"
   ]
  },
  {
   "cell_type": "code",
   "execution_count": 8,
   "id": "ca287ab6",
   "metadata": {},
   "outputs": [],
   "source": [
    "# Now let's see how this works in pandas"
   ]
  },
  {
   "cell_type": "code",
   "execution_count": 9,
   "id": "cf786369",
   "metadata": {},
   "outputs": [
    {
     "data": {
      "text/plain": [
       "T    0\n",
       "U    1\n",
       "V    2\n",
       "X    3\n",
       "Y    4\n",
       "dtype: int64"
      ]
     },
     "execution_count": 9,
     "metadata": {},
     "output_type": "execute_result"
    }
   ],
   "source": [
    "# Lets create two Series with no overlap\n",
    "ser1 =  Series([0,1,2],index=['T','U','V'])\n",
    "\n",
    "ser2 = Series([3,4],index=['X','Y'])\n",
    "\n",
    "#Now let use concat (default is axis=0)\n",
    "pd.concat([ser1,ser2])"
   ]
  },
  {
   "cell_type": "code",
   "execution_count": 10,
   "id": "40f395ad",
   "metadata": {},
   "outputs": [
    {
     "data": {
      "text/html": [
       "<div style=\"max-height:1000px;max-width:1500px;overflow:auto;\">\n",
       "<table border=\"1\" class=\"dataframe\">\n",
       "  <thead>\n",
       "    <tr style=\"text-align: right;\">\n",
       "      <th></th>\n",
       "      <th>0</th>\n",
       "      <th>1</th>\n",
       "    </tr>\n",
       "  </thead>\n",
       "  <tbody>\n",
       "    <tr>\n",
       "      <th>T</th>\n",
       "      <td>  0</td>\n",
       "      <td>NaN</td>\n",
       "    </tr>\n",
       "    <tr>\n",
       "      <th>U</th>\n",
       "      <td>  1</td>\n",
       "      <td>NaN</td>\n",
       "    </tr>\n",
       "    <tr>\n",
       "      <th>V</th>\n",
       "      <td>  2</td>\n",
       "      <td>NaN</td>\n",
       "    </tr>\n",
       "    <tr>\n",
       "      <th>X</th>\n",
       "      <td>NaN</td>\n",
       "      <td>  3</td>\n",
       "    </tr>\n",
       "    <tr>\n",
       "      <th>Y</th>\n",
       "      <td>NaN</td>\n",
       "      <td>  4</td>\n",
       "    </tr>\n",
       "  </tbody>\n",
       "</table>\n",
       "</div>"
      ],
      "text/plain": [
       "    0   1\n",
       "T   0 NaN\n",
       "U   1 NaN\n",
       "V   2 NaN\n",
       "X NaN   3\n",
       "Y NaN   4"
      ]
     },
     "execution_count": 10,
     "metadata": {},
     "output_type": "execute_result"
    }
   ],
   "source": [
    "# Now passing along another axis will produce a DataFrame\n",
    "pd.concat([ser1,ser2],axis=1)"
   ]
  },
  {
   "cell_type": "code",
   "execution_count": 17,
   "id": "eadf5303",
   "metadata": {},
   "outputs": [
    {
     "data": {
      "text/html": [
       "<div style=\"max-height:1000px;max-width:1500px;overflow:auto;\">\n",
       "<table border=\"1\" class=\"dataframe\">\n",
       "  <thead>\n",
       "    <tr style=\"text-align: right;\">\n",
       "      <th></th>\n",
       "      <th>0</th>\n",
       "      <th>1</th>\n",
       "    </tr>\n",
       "  </thead>\n",
       "  <tbody>\n",
       "    <tr>\n",
       "      <th>U</th>\n",
       "      <td>  1</td>\n",
       "      <td>NaN</td>\n",
       "    </tr>\n",
       "    <tr>\n",
       "      <th>V</th>\n",
       "      <td>  2</td>\n",
       "      <td>NaN</td>\n",
       "    </tr>\n",
       "    <tr>\n",
       "      <th>Y</th>\n",
       "      <td>NaN</td>\n",
       "      <td>  4</td>\n",
       "    </tr>\n",
       "  </tbody>\n",
       "</table>\n",
       "</div>"
      ],
      "text/plain": [
       "    0   1\n",
       "U   1 NaN\n",
       "V   2 NaN\n",
       "Y NaN   4"
      ]
     },
     "execution_count": 17,
     "metadata": {},
     "output_type": "execute_result"
    }
   ],
   "source": [
    "# We can specify which specific axes to be used\n",
    "pd.concat([ser1,ser2],axis=1,join_axes=[['U','V','Y']])"
   ]
  },
  {
   "cell_type": "code",
   "execution_count": 11,
   "id": "e3652239",
   "metadata": {},
   "outputs": [
    {
     "data": {
      "text/plain": [
       "cat1  T    0\n",
       "      U    1\n",
       "      V    2\n",
       "cat2  X    3\n",
       "      Y    4\n",
       "dtype: int64"
      ]
     },
     "execution_count": 11,
     "metadata": {},
     "output_type": "execute_result"
    }
   ],
   "source": [
    "# Lets say we wanted to add markers.keys to the concatenation result\n",
    "\n",
    "# WE can do this with a hierarchical index\n",
    "pd.concat([ser1,ser2],keys=['cat1','cat2'])"
   ]
  },
  {
   "cell_type": "code",
   "execution_count": 12,
   "id": "9205016f",
   "metadata": {},
   "outputs": [
    {
     "data": {
      "text/html": [
       "<div style=\"max-height:1000px;max-width:1500px;overflow:auto;\">\n",
       "<table border=\"1\" class=\"dataframe\">\n",
       "  <thead>\n",
       "    <tr style=\"text-align: right;\">\n",
       "      <th></th>\n",
       "      <th>cat1</th>\n",
       "      <th>cat2</th>\n",
       "    </tr>\n",
       "  </thead>\n",
       "  <tbody>\n",
       "    <tr>\n",
       "      <th>T</th>\n",
       "      <td>  0</td>\n",
       "      <td>NaN</td>\n",
       "    </tr>\n",
       "    <tr>\n",
       "      <th>U</th>\n",
       "      <td>  1</td>\n",
       "      <td>NaN</td>\n",
       "    </tr>\n",
       "    <tr>\n",
       "      <th>V</th>\n",
       "      <td>  2</td>\n",
       "      <td>NaN</td>\n",
       "    </tr>\n",
       "    <tr>\n",
       "      <th>X</th>\n",
       "      <td>NaN</td>\n",
       "      <td>  3</td>\n",
       "    </tr>\n",
       "    <tr>\n",
       "      <th>Y</th>\n",
       "      <td>NaN</td>\n",
       "      <td>  4</td>\n",
       "    </tr>\n",
       "  </tbody>\n",
       "</table>\n",
       "</div>"
      ],
      "text/plain": [
       "   cat1  cat2\n",
       "T     0   NaN\n",
       "U     1   NaN\n",
       "V     2   NaN\n",
       "X   NaN     3\n",
       "Y   NaN     4"
      ]
     },
     "execution_count": 12,
     "metadata": {},
     "output_type": "execute_result"
    }
   ],
   "source": [
    "# Along the axis=1 then these Keys become column headers\n",
    "pd.concat([ser1,ser2],axis=1,keys=['cat1','cat2'])"
   ]
  },
  {
   "cell_type": "code",
   "execution_count": 14,
   "id": "2da9a704",
   "metadata": {},
   "outputs": [],
   "source": [
    "#Lastly, everything works similarly in DataFrames\n",
    "\n",
    "dframe1 = DataFrame(np.random.randn(4,3), columns=['X', 'Y', 'Z'])\n",
    "dframe2 = DataFrame(np.random.randn(3, 3), columns=['Y', 'Q', 'X'])"
   ]
  },
  {
   "cell_type": "code",
   "execution_count": 16,
   "id": "2e197258",
   "metadata": {},
   "outputs": [
    {
     "data": {
      "text/html": [
       "<div style=\"max-height:1000px;max-width:1500px;overflow:auto;\">\n",
       "<table border=\"1\" class=\"dataframe\">\n",
       "  <thead>\n",
       "    <tr style=\"text-align: right;\">\n",
       "      <th></th>\n",
       "      <th>Q</th>\n",
       "      <th>X</th>\n",
       "      <th>Y</th>\n",
       "      <th>Z</th>\n",
       "    </tr>\n",
       "  </thead>\n",
       "  <tbody>\n",
       "    <tr>\n",
       "      <th>0</th>\n",
       "      <td>      NaN</td>\n",
       "      <td> 1.096040</td>\n",
       "      <td>-1.366980</td>\n",
       "      <td> 0.546707</td>\n",
       "    </tr>\n",
       "    <tr>\n",
       "      <th>1</th>\n",
       "      <td>      NaN</td>\n",
       "      <td>-1.406425</td>\n",
       "      <td> 0.484748</td>\n",
       "      <td>-1.156143</td>\n",
       "    </tr>\n",
       "    <tr>\n",
       "      <th>2</th>\n",
       "      <td>      NaN</td>\n",
       "      <td> 1.155464</td>\n",
       "      <td> 1.166407</td>\n",
       "      <td>-0.245477</td>\n",
       "    </tr>\n",
       "    <tr>\n",
       "      <th>3</th>\n",
       "      <td>      NaN</td>\n",
       "      <td>-0.153330</td>\n",
       "      <td> 2.185743</td>\n",
       "      <td> 0.307704</td>\n",
       "    </tr>\n",
       "    <tr>\n",
       "      <th>0</th>\n",
       "      <td> 0.789881</td>\n",
       "      <td> 1.616933</td>\n",
       "      <td>-0.961830</td>\n",
       "      <td>      NaN</td>\n",
       "    </tr>\n",
       "    <tr>\n",
       "      <th>1</th>\n",
       "      <td> 0.201265</td>\n",
       "      <td> 0.293210</td>\n",
       "      <td>-0.277847</td>\n",
       "      <td>      NaN</td>\n",
       "    </tr>\n",
       "    <tr>\n",
       "      <th>2</th>\n",
       "      <td>-0.121395</td>\n",
       "      <td> 0.959849</td>\n",
       "      <td>-1.360611</td>\n",
       "      <td>      NaN</td>\n",
       "    </tr>\n",
       "  </tbody>\n",
       "</table>\n",
       "</div>"
      ],
      "text/plain": [
       "          Q         X         Y         Z\n",
       "0       NaN  1.096040 -1.366980  0.546707\n",
       "1       NaN -1.406425  0.484748 -1.156143\n",
       "2       NaN  1.155464  1.166407 -0.245477\n",
       "3       NaN -0.153330  2.185743  0.307704\n",
       "0  0.789881  1.616933 -0.961830       NaN\n",
       "1  0.201265  0.293210 -0.277847       NaN\n",
       "2 -0.121395  0.959849 -1.360611       NaN"
      ]
     },
     "execution_count": 16,
     "metadata": {},
     "output_type": "execute_result"
    }
   ],
   "source": [
    "#Concat on DataFrame\n",
    "pd.concat([dframe1,dframe2])"
   ]
  },
  {
   "cell_type": "code",
   "execution_count": 17,
   "id": "31d7953b",
   "metadata": {},
   "outputs": [
    {
     "data": {
      "text/html": [
       "<div style=\"max-height:1000px;max-width:1500px;overflow:auto;\">\n",
       "<table border=\"1\" class=\"dataframe\">\n",
       "  <thead>\n",
       "    <tr style=\"text-align: right;\">\n",
       "      <th></th>\n",
       "      <th>Q</th>\n",
       "      <th>X</th>\n",
       "      <th>Y</th>\n",
       "      <th>Z</th>\n",
       "    </tr>\n",
       "  </thead>\n",
       "  <tbody>\n",
       "    <tr>\n",
       "      <th>0</th>\n",
       "      <td>      NaN</td>\n",
       "      <td> 1.096040</td>\n",
       "      <td>-1.366980</td>\n",
       "      <td> 0.546707</td>\n",
       "    </tr>\n",
       "    <tr>\n",
       "      <th>1</th>\n",
       "      <td>      NaN</td>\n",
       "      <td>-1.406425</td>\n",
       "      <td> 0.484748</td>\n",
       "      <td>-1.156143</td>\n",
       "    </tr>\n",
       "    <tr>\n",
       "      <th>2</th>\n",
       "      <td>      NaN</td>\n",
       "      <td> 1.155464</td>\n",
       "      <td> 1.166407</td>\n",
       "      <td>-0.245477</td>\n",
       "    </tr>\n",
       "    <tr>\n",
       "      <th>3</th>\n",
       "      <td>      NaN</td>\n",
       "      <td>-0.153330</td>\n",
       "      <td> 2.185743</td>\n",
       "      <td> 0.307704</td>\n",
       "    </tr>\n",
       "    <tr>\n",
       "      <th>4</th>\n",
       "      <td> 0.789881</td>\n",
       "      <td> 1.616933</td>\n",
       "      <td>-0.961830</td>\n",
       "      <td>      NaN</td>\n",
       "    </tr>\n",
       "    <tr>\n",
       "      <th>5</th>\n",
       "      <td> 0.201265</td>\n",
       "      <td> 0.293210</td>\n",
       "      <td>-0.277847</td>\n",
       "      <td>      NaN</td>\n",
       "    </tr>\n",
       "    <tr>\n",
       "      <th>6</th>\n",
       "      <td>-0.121395</td>\n",
       "      <td> 0.959849</td>\n",
       "      <td>-1.360611</td>\n",
       "      <td>      NaN</td>\n",
       "    </tr>\n",
       "  </tbody>\n",
       "</table>\n",
       "</div>"
      ],
      "text/plain": [
       "          Q         X         Y         Z\n",
       "0       NaN  1.096040 -1.366980  0.546707\n",
       "1       NaN -1.406425  0.484748 -1.156143\n",
       "2       NaN  1.155464  1.166407 -0.245477\n",
       "3       NaN -0.153330  2.185743  0.307704\n",
       "4  0.789881  1.616933 -0.961830       NaN\n",
       "5  0.201265  0.293210 -0.277847       NaN\n",
       "6 -0.121395  0.959849 -1.360611       NaN"
      ]
     },
     "execution_count": 17,
     "metadata": {},
     "output_type": "execute_result"
    }
   ],
   "source": [
    "#If we dont care about the index info and just awnt to make a complete DataFrame, just use ignore_index\n",
    "pd.concat([dframe1,dframe2],ignore_index=True)"
   ]
  },
  {
   "cell_type": "code",
   "execution_count": 18,
   "id": "93b770a8",
   "metadata": {},
   "outputs": [],
   "source": [
    "#For more info in documentation:\n",
    "url='http://pandas.pydata.org/pandas-docs/stable/generated/pandas.concat.html'"
   ]
  },
  {
   "cell_type": "code",
   "execution_count": null,
   "id": "161d7a1a",
   "metadata": {},
   "outputs": [],
   "source": [
    "#Next up: More on Combining DataFrames with Overlapping Indexes!"
   ]
  }
 ],
 "metadata": {
  "hide_input": false,
  "kernelspec": {
   "display_name": "Python 3",
   "language": "python",
   "name": "python3"
  },
  "language_info": {
   "codemirror_mode": {
    "name": "ipython",
    "version": 3
   },
   "file_extension": ".py",
   "mimetype": "text/x-python",
   "name": "python",
   "nbconvert_exporter": "python",
   "pygments_lexer": "ipython3",
   "version": "3.8.8"
  },
  "latex_envs": {
   "LaTeX_envs_menu_present": true,
   "autoclose": false,
   "autocomplete": true,
   "bibliofile": "biblio.bib",
   "cite_by": "apalike",
   "current_citInitial": 1,
   "eqLabelWithNumbers": true,
   "eqNumInitial": 1,
   "hotkeys": {
    "equation": "Ctrl-E",
    "itemize": "Ctrl-I"
   },
   "labels_anchors": false,
   "latex_user_defs": false,
   "report_style_numbering": false,
   "user_envs_cfg": false
  },
  "nbTranslate": {
   "displayLangs": [
    "*"
   ],
   "hotkey": "alt-t",
   "langInMainMenu": true,
   "sourceLang": "en",
   "targetLang": "fr",
   "useGoogleTranslate": true
  },
  "toc": {
   "base_numbering": 1,
   "nav_menu": {},
   "number_sections": true,
   "sideBar": true,
   "skip_h1_title": false,
   "title_cell": "Tabla de contenido",
   "title_sidebar": "Contenido",
   "toc_cell": false,
   "toc_position": {},
   "toc_section_display": true,
   "toc_window_display": false
  },
  "varInspector": {
   "cols": {
    "lenName": 16,
    "lenType": 16,
    "lenVar": 40
   },
   "kernels_config": {
    "python": {
     "delete_cmd_postfix": "",
     "delete_cmd_prefix": "del ",
     "library": "var_list.py",
     "varRefreshCmd": "print(var_dic_list())"
    },
    "r": {
     "delete_cmd_postfix": ") ",
     "delete_cmd_prefix": "rm(",
     "library": "var_list.r",
     "varRefreshCmd": "cat(var_dic_list()) "
    }
   },
   "types_to_exclude": [
    "module",
    "function",
    "builtin_function_or_method",
    "instance",
    "_Feature"
   ],
   "window_display": false
  }
 },
 "nbformat": 4,
 "nbformat_minor": 1
}