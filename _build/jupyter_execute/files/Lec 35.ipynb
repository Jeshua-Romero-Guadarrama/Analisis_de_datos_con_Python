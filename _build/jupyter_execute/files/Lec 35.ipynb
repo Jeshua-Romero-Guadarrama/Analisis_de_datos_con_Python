{
 "cells": [
  {
   "cell_type": "markdown",
   "metadata": {},
   "source": [
    "<center><img style=\"float: center; width:90%\" src=\"https://raw.githubusercontent.com/Jeshua-Romero-Guadarrama/CienciaDatosPython/main/images/JeshuaNomics.png\">\n",
    "</center><br>\n",
    "\n",
    "<script src=\"https://kit.fontawesome.com/37a97f957d.js\" crossorigin=\"anonymous\"></script>\n",
    "\n",
    "<center><a href=\"https://www.datascience.jeshuanomics.com/\" target=\"blank\" style=\"font-size:20px;\">\n",
    "Introducción a la Ciencia de Datos para Economistas en Python\n",
    "</a></center>\n",
    "\n",
    "<center><a href=\"https://www.jeshuanomics.com/\" target=\"blank\" style=\"font-size:20px;\">\n",
    "Publicado por Jeshua Romero Guadarrama en colaboración con JeshuaNomics\n",
    "</a></center>\n",
    "    \n",
    "<center><a href=\"https://www.jeshuanomics.com/\" target=\"blank\">\n",
    "____________________________________________________________________________________________________\n",
    "</a></center><br>\n",
    "\n",
    "<center>\n",
    "<a href=\"https://github.com/JeshuaNomics\"><i class=\"fa fa-github\" aria-hidden=\"true\"></i><span class=\"label\"></span> GitHub  </a>\n",
    "<a href=\"https://www.facebook.com/JeshuaNomics/\"><i class=\"fa fa-facebook\" aria-hidden=\"true\"></i><span class=\"label\"></span> Facebook  </a>\n",
    "<a href=\"https://twitter.com/JeshuaNomics\"><i class=\"fa fa-twitter\" aria-hidden=\"true\"></i><span class=\"label\"></span> Twitter  </a>\n",
    "<a href=\"https://www.linkedin.com/in/jeshua-romero-guadarrama/\"><i class=\"fa fa-linkedin\" aria-hidden=\"true\"></i><span class=\"label\"></span> Linkedin  </a>\n",
    "<a href=\"https://vk.com/jeshuanomics\"><i class=\"fa fa-vk\" aria-hidden=\"true\"></i><span class=\"label\"></span> Vkontakte  </a>\n",
    "<a href=\"https://jeshuanomics.tumblr.com/\"><i class=\"fa fa-tumblr\" aria-hidden=\"true\"></i><span class=\"label\"></span> Tumblr  </a>\n",
    "<a href=\"https://www.youtube.com/channel/UCY7f84mJGvMN7TF7XI4-Jgg?view_as=subscriber/\"><i class=\"fa fa-youtube-play\" aria-hidden=\"true\"></i><span class=\"label\"></span> YouTube  </a>\n",
    "<a href=\"https://www.instagram.com/JeshuaNomics/\"><i class=\"fa fa-instagram\" aria-hidden=\"true\"></i><span class=\"label\"></span> Instagram  </a>\n",
    "<a href=\"https://www.datascience.jeshuanomics.com/\"><i class=\"fa fa-check\" aria-hidden=\"true\"></i><span class=\"label\"></span> DataScience </a>\n",
    "</center><br><br>"
   ]
  },
  {
   "cell_type": "markdown",
   "metadata": {},
   "source": [
    "# Duplicates in DataFrames"
   ]
  },
  {
   "cell_type": "code",
   "execution_count": 1,
   "id": "929f594e",
   "metadata": {},
   "outputs": [],
   "source": [
    "import numpy as np\n",
    "import pandas as pd\n",
    "from pandas import Series,DataFrame"
   ]
  },
  {
   "cell_type": "code",
   "execution_count": 7,
   "id": "4dff0d14",
   "metadata": {},
   "outputs": [
    {
     "data": {
      "text/html": [
       "<div style=\"max-height:1000px;max-width:1500px;overflow:auto;\">\n",
       "<table border=\"1\" class=\"dataframe\">\n",
       "  <thead>\n",
       "    <tr style=\"text-align: right;\">\n",
       "      <th></th>\n",
       "      <th>key1</th>\n",
       "      <th>key2</th>\n",
       "    </tr>\n",
       "  </thead>\n",
       "  <tbody>\n",
       "    <tr>\n",
       "      <th>0</th>\n",
       "      <td> A</td>\n",
       "      <td> 2</td>\n",
       "    </tr>\n",
       "    <tr>\n",
       "      <th>1</th>\n",
       "      <td> A</td>\n",
       "      <td> 2</td>\n",
       "    </tr>\n",
       "    <tr>\n",
       "      <th>2</th>\n",
       "      <td> B</td>\n",
       "      <td> 2</td>\n",
       "    </tr>\n",
       "    <tr>\n",
       "      <th>3</th>\n",
       "      <td> B</td>\n",
       "      <td> 3</td>\n",
       "    </tr>\n",
       "    <tr>\n",
       "      <th>4</th>\n",
       "      <td> B</td>\n",
       "      <td> 3</td>\n",
       "    </tr>\n",
       "  </tbody>\n",
       "</table>\n",
       "</div>"
      ],
      "text/plain": [
       "  key1  key2\n",
       "0    A     2\n",
       "1    A     2\n",
       "2    B     2\n",
       "3    B     3\n",
       "4    B     3"
      ]
     },
     "execution_count": 7,
     "metadata": {},
     "output_type": "execute_result"
    }
   ],
   "source": [
    "#Lets get a dataframe with duplicates\n",
    "\n",
    "dframe = DataFrame({'key1': ['A'] * 2 + ['B'] * 3,\n",
    "                  'key2': [2, 2, 2, 3, 3]})\n",
    "\n",
    "#Show\n",
    "dframe"
   ]
  },
  {
   "cell_type": "code",
   "execution_count": 8,
   "id": "10b2caa1",
   "metadata": {},
   "outputs": [
    {
     "data": {
      "text/plain": [
       "0    False\n",
       "1     True\n",
       "2    False\n",
       "3    False\n",
       "4     True\n",
       "dtype: bool"
      ]
     },
     "execution_count": 8,
     "metadata": {},
     "output_type": "execute_result"
    }
   ],
   "source": [
    "#We can use duplicated to find duplicates\n",
    "dframe.duplicated()"
   ]
  },
  {
   "cell_type": "code",
   "execution_count": 9,
   "id": "8f641722",
   "metadata": {},
   "outputs": [
    {
     "data": {
      "text/html": [
       "<div style=\"max-height:1000px;max-width:1500px;overflow:auto;\">\n",
       "<table border=\"1\" class=\"dataframe\">\n",
       "  <thead>\n",
       "    <tr style=\"text-align: right;\">\n",
       "      <th></th>\n",
       "      <th>key1</th>\n",
       "      <th>key2</th>\n",
       "    </tr>\n",
       "  </thead>\n",
       "  <tbody>\n",
       "    <tr>\n",
       "      <th>0</th>\n",
       "      <td> A</td>\n",
       "      <td> 2</td>\n",
       "    </tr>\n",
       "    <tr>\n",
       "      <th>2</th>\n",
       "      <td> B</td>\n",
       "      <td> 2</td>\n",
       "    </tr>\n",
       "    <tr>\n",
       "      <th>3</th>\n",
       "      <td> B</td>\n",
       "      <td> 3</td>\n",
       "    </tr>\n",
       "  </tbody>\n",
       "</table>\n",
       "</div>"
      ],
      "text/plain": [
       "  key1  key2\n",
       "0    A     2\n",
       "2    B     2\n",
       "3    B     3"
      ]
     },
     "execution_count": 9,
     "metadata": {},
     "output_type": "execute_result"
    }
   ],
   "source": [
    "# We can also drop duplicates like this:\n",
    "dframe.drop_duplicates()"
   ]
  },
  {
   "cell_type": "code",
   "execution_count": 10,
   "id": "fadb1189",
   "metadata": {},
   "outputs": [
    {
     "data": {
      "text/html": [
       "<div style=\"max-height:1000px;max-width:1500px;overflow:auto;\">\n",
       "<table border=\"1\" class=\"dataframe\">\n",
       "  <thead>\n",
       "    <tr style=\"text-align: right;\">\n",
       "      <th></th>\n",
       "      <th>key1</th>\n",
       "      <th>key2</th>\n",
       "    </tr>\n",
       "  </thead>\n",
       "  <tbody>\n",
       "    <tr>\n",
       "      <th>0</th>\n",
       "      <td> A</td>\n",
       "      <td> 2</td>\n",
       "    </tr>\n",
       "    <tr>\n",
       "      <th>2</th>\n",
       "      <td> B</td>\n",
       "      <td> 2</td>\n",
       "    </tr>\n",
       "  </tbody>\n",
       "</table>\n",
       "</div>"
      ],
      "text/plain": [
       "  key1  key2\n",
       "0    A     2\n",
       "2    B     2"
      ]
     },
     "execution_count": 10,
     "metadata": {},
     "output_type": "execute_result"
    }
   ],
   "source": [
    "#You can filter which duplicates to drop by a single column\n",
    "dframe.drop_duplicates(['key1'])"
   ]
  },
  {
   "cell_type": "code",
   "execution_count": 11,
   "id": "86de255d",
   "metadata": {},
   "outputs": [
    {
     "data": {
      "text/html": [
       "<div style=\"max-height:1000px;max-width:1500px;overflow:auto;\">\n",
       "<table border=\"1\" class=\"dataframe\">\n",
       "  <thead>\n",
       "    <tr style=\"text-align: right;\">\n",
       "      <th></th>\n",
       "      <th>key1</th>\n",
       "      <th>key2</th>\n",
       "    </tr>\n",
       "  </thead>\n",
       "  <tbody>\n",
       "    <tr>\n",
       "      <th>0</th>\n",
       "      <td> A</td>\n",
       "      <td> 2</td>\n",
       "    </tr>\n",
       "    <tr>\n",
       "      <th>1</th>\n",
       "      <td> A</td>\n",
       "      <td> 2</td>\n",
       "    </tr>\n",
       "    <tr>\n",
       "      <th>2</th>\n",
       "      <td> B</td>\n",
       "      <td> 2</td>\n",
       "    </tr>\n",
       "    <tr>\n",
       "      <th>3</th>\n",
       "      <td> B</td>\n",
       "      <td> 3</td>\n",
       "    </tr>\n",
       "    <tr>\n",
       "      <th>4</th>\n",
       "      <td> B</td>\n",
       "      <td> 3</td>\n",
       "    </tr>\n",
       "  </tbody>\n",
       "</table>\n",
       "</div>"
      ],
      "text/plain": [
       "  key1  key2\n",
       "0    A     2\n",
       "1    A     2\n",
       "2    B     2\n",
       "3    B     3\n",
       "4    B     3"
      ]
     },
     "execution_count": 11,
     "metadata": {},
     "output_type": "execute_result"
    }
   ],
   "source": [
    "#Show original\n",
    "dframe"
   ]
  },
  {
   "cell_type": "code",
   "execution_count": 14,
   "id": "75d576b3",
   "metadata": {},
   "outputs": [
    {
     "data": {
      "text/html": [
       "<div style=\"max-height:1000px;max-width:1500px;overflow:auto;\">\n",
       "<table border=\"1\" class=\"dataframe\">\n",
       "  <thead>\n",
       "    <tr style=\"text-align: right;\">\n",
       "      <th></th>\n",
       "      <th>key1</th>\n",
       "      <th>key2</th>\n",
       "    </tr>\n",
       "  </thead>\n",
       "  <tbody>\n",
       "    <tr>\n",
       "      <th>1</th>\n",
       "      <td> A</td>\n",
       "      <td> 2</td>\n",
       "    </tr>\n",
       "    <tr>\n",
       "      <th>4</th>\n",
       "      <td> B</td>\n",
       "      <td> 3</td>\n",
       "    </tr>\n",
       "  </tbody>\n",
       "</table>\n",
       "</div>"
      ],
      "text/plain": [
       "  key1  key2\n",
       "1    A     2\n",
       "4    B     3"
      ]
     },
     "execution_count": 14,
     "metadata": {},
     "output_type": "execute_result"
    }
   ],
   "source": [
    "#By default the first value was taken for the duplicates, we can also take the last value instead\n",
    "dframe.drop_duplicates(['key1'],take_last=True)"
   ]
  },
  {
   "cell_type": "code",
   "execution_count": null,
   "id": "0bf014e4",
   "metadata": {},
   "outputs": [],
   "source": [
    "# That's about it for finding duplicates, pretty easy huh? \n",
    "\n",
    "#Up next: Mapping"
   ]
  }
 ],
 "metadata": {
  "hide_input": false,
  "kernelspec": {
   "display_name": "Python 3",
   "language": "python",
   "name": "python3"
  },
  "language_info": {
   "codemirror_mode": {
    "name": "ipython",
    "version": 3
   },
   "file_extension": ".py",
   "mimetype": "text/x-python",
   "name": "python",
   "nbconvert_exporter": "python",
   "pygments_lexer": "ipython3",
   "version": "3.8.8"
  },
  "latex_envs": {
   "LaTeX_envs_menu_present": true,
   "autoclose": false,
   "autocomplete": true,
   "bibliofile": "biblio.bib",
   "cite_by": "apalike",
   "current_citInitial": 1,
   "eqLabelWithNumbers": true,
   "eqNumInitial": 1,
   "hotkeys": {
    "equation": "Ctrl-E",
    "itemize": "Ctrl-I"
   },
   "labels_anchors": false,
   "latex_user_defs": false,
   "report_style_numbering": false,
   "user_envs_cfg": false
  },
  "nbTranslate": {
   "displayLangs": [
    "*"
   ],
   "hotkey": "alt-t",
   "langInMainMenu": true,
   "sourceLang": "en",
   "targetLang": "fr",
   "useGoogleTranslate": true
  },
  "toc": {
   "base_numbering": 1,
   "nav_menu": {},
   "number_sections": true,
   "sideBar": true,
   "skip_h1_title": false,
   "title_cell": "Tabla de contenido",
   "title_sidebar": "Contenido",
   "toc_cell": false,
   "toc_position": {},
   "toc_section_display": true,
   "toc_window_display": false
  },
  "varInspector": {
   "cols": {
    "lenName": 16,
    "lenType": 16,
    "lenVar": 40
   },
   "kernels_config": {
    "python": {
     "delete_cmd_postfix": "",
     "delete_cmd_prefix": "del ",
     "library": "var_list.py",
     "varRefreshCmd": "print(var_dic_list())"
    },
    "r": {
     "delete_cmd_postfix": ") ",
     "delete_cmd_prefix": "rm(",
     "library": "var_list.r",
     "varRefreshCmd": "cat(var_dic_list()) "
    }
   },
   "types_to_exclude": [
    "module",
    "function",
    "builtin_function_or_method",
    "instance",
    "_Feature"
   ],
   "window_display": false
  }
 },
 "nbformat": 4,
 "nbformat_minor": 1
}